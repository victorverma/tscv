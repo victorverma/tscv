{
 "cells": [
  {
   "cell_type": "code",
   "execution_count": 1,
   "metadata": {},
   "outputs": [
    {
     "name": "stdout",
     "output_type": "stream",
     "text": [
      "Intel MKL WARNING: Support of Intel(R) Streaming SIMD Extensions 4.2 (Intel(R) SSE4.2) enabled only processors has been deprecated. Intel oneAPI Math Kernel Library 2025.0 will require Intel(R) Advanced Vector Extensions (Intel(R) AVX) instructions.\n",
      "Intel MKL WARNING: Support of Intel(R) Streaming SIMD Extensions 4.2 (Intel(R) SSE4.2) enabled only processors has been deprecated. Intel oneAPI Math Kernel Library 2025.0 will require Intel(R) Advanced Vector Extensions (Intel(R) AVX) instructions.\n"
     ]
    }
   ],
   "source": [
    "import os\n",
    "import sys\n",
    "parent_dir = os.path.abspath(os.path.join(os.getcwd(), os.pardir))\n",
    "sys.path.append(parent_dir)\n",
    "import numpy as np\n",
    "import tscv"
   ]
  },
  {
   "cell_type": "code",
   "execution_count": 2,
   "metadata": {},
   "outputs": [],
   "source": [
    "x = np.random.rand(10000000, 10)\n",
    "y = np.random.rand(10000000)"
   ]
  },
  {
   "cell_type": "code",
   "execution_count": 3,
   "metadata": {},
   "outputs": [],
   "source": [
    "# Define custom preprocessor\n",
    "class StandardScaler:\n",
    "    def fit(self, x, y):\n",
    "        self.mean_ = np.mean(x, axis=0)\n",
    "        self.std_ = np.std(x, axis=0)\n",
    "\n",
    "    def transform(self, x, y):\n",
    "        return ((x - self.mean_) / self.std_, y)\n",
    "    \n",
    "    def fit_transform(self, x, y):\n",
    "        self.fit(x, y)\n",
    "        return self.transform(x, y)"
   ]
  },
  {
   "cell_type": "code",
   "execution_count": 4,
   "metadata": {},
   "outputs": [],
   "source": [
    "# Define custom model\n",
    "class CustomLinearModel:\n",
    "    def fit(self, x, y):\n",
    "        self.coef_ = np.linalg.pinv(x) @ y\n",
    "\n",
    "    def predict(self, x):\n",
    "        return x @ self.coef_"
   ]
  },
  {
   "cell_type": "code",
   "execution_count": 5,
   "metadata": {},
   "outputs": [],
   "source": [
    "# Define custom metrics\n",
    "class MeanSquaredError:\n",
    "    def evaluate(self, y_obs, y_pred):\n",
    "        return np.mean((y_obs - y_pred) ** 2)\n",
    "\n",
    "class MeanAbsoluteError:\n",
    "    def evaluate(self, y_obs, y_pred):\n",
    "        return np.mean(np.abs(y_obs - y_pred))"
   ]
  },
  {
   "cell_type": "code",
   "execution_count": 6,
   "metadata": {},
   "outputs": [],
   "source": [
    "# Set up cross-validation\n",
    "cross_validator = tscv.TimeSeriesCrossValidator(\n",
    "    train_starts=[0, 20000, 40000],\n",
    "    train_sizes=[100000, 100000, 100000],\n",
    "    test_sizes=[20000, 20000, 20000],\n",
    "    preprocessor=StandardScaler(),\n",
    "    max_workers=1\n",
    ")"
   ]
  },
  {
   "cell_type": "code",
   "execution_count": 7,
   "metadata": {},
   "outputs": [],
   "source": [
    "# Define model and preprocessor\n",
    "model = CustomLinearModel()"
   ]
  },
  {
   "cell_type": "code",
   "execution_count": 8,
   "metadata": {},
   "outputs": [],
   "source": [
    "# Define metrics\n",
    "metrics = [MeanSquaredError(), MeanAbsoluteError()]"
   ]
  },
  {
   "cell_type": "code",
   "execution_count": 9,
   "metadata": {},
   "outputs": [
    {
     "name": "stdout",
     "output_type": "stream",
     "text": [
      "Evaluation Results:\n",
      "{'MeanSquaredError': 0.33005341232878826, 'MeanAbsoluteError': 0.49564664352651217}\n",
      "{'MeanSquaredError': 0.33235560326040625, 'MeanAbsoluteError': 0.4998735631196291}\n",
      "{'MeanSquaredError': 0.3353055420441354, 'MeanAbsoluteError': 0.5014131826589037}\n"
     ]
    }
   ],
   "source": [
    "# Evaluate model\n",
    "evaluations = cross_validator.cross_validate(model, x, y, metrics)\n",
    "print(\"Evaluation Results:\")\n",
    "for evaluation in evaluations:\n",
    "    print(evaluation)"
   ]
  }
 ],
 "metadata": {
  "kernelspec": {
   "display_name": "Python 3",
   "language": "python",
   "name": "python3"
  },
  "language_info": {
   "codemirror_mode": {
    "name": "ipython",
    "version": 3
   },
   "file_extension": ".py",
   "mimetype": "text/x-python",
   "name": "python",
   "nbconvert_exporter": "python",
   "pygments_lexer": "ipython3",
   "version": "3.9.19"
  }
 },
 "nbformat": 4,
 "nbformat_minor": 2
}
