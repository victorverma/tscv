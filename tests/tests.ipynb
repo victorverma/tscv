{
 "cells": [
  {
   "cell_type": "code",
   "execution_count": 1,
   "metadata": {},
   "outputs": [
    {
     "name": "stdout",
     "output_type": "stream",
     "text": [
      "Intel MKL WARNING: Support of Intel(R) Streaming SIMD Extensions 4.2 (Intel(R) SSE4.2) enabled only processors has been deprecated. Intel oneAPI Math Kernel Library 2025.0 will require Intel(R) Advanced Vector Extensions (Intel(R) AVX) instructions.\n",
      "Intel MKL WARNING: Support of Intel(R) Streaming SIMD Extensions 4.2 (Intel(R) SSE4.2) enabled only processors has been deprecated. Intel oneAPI Math Kernel Library 2025.0 will require Intel(R) Advanced Vector Extensions (Intel(R) AVX) instructions.\n"
     ]
    }
   ],
   "source": [
    "import numpy as np\n",
    "import os\n",
    "import sys\n",
    "parent_dir = os.path.abspath(os.path.join(os.getcwd(), os.pardir))\n",
    "sys.path.append(parent_dir)\n",
    "import tscv"
   ]
  },
  {
   "cell_type": "code",
   "execution_count": 2,
   "metadata": {},
   "outputs": [],
   "source": [
    "X = np.random.rand(100, 10)\n",
    "y = np.random.rand(100)"
   ]
  },
  {
   "cell_type": "code",
   "execution_count": 3,
   "metadata": {},
   "outputs": [],
   "source": [
    "# Define custom preprocessor\n",
    "class StandardScaler(tscv.Preprocessor):\n",
    "    def fit(self, X):\n",
    "        self.mean_ = np.mean(X, axis=0)\n",
    "        self.std_ = np.std(X, axis=0)\n",
    "\n",
    "    def transform(self, X):\n",
    "        return (X - self.mean_) / self.std_"
   ]
  },
  {
   "cell_type": "code",
   "execution_count": 4,
   "metadata": {},
   "outputs": [],
   "source": [
    "# Define custom model\n",
    "class CustomLinearModel(tscv.Model):\n",
    "    def fit(self, X, y):\n",
    "        self.coef_ = np.linalg.pinv(X) @ y\n",
    "\n",
    "    def predict(self, X):\n",
    "        return X @ self.coef_"
   ]
  },
  {
   "cell_type": "code",
   "execution_count": 10,
   "metadata": {},
   "outputs": [],
   "source": [
    "# Define custom metrics\n",
    "class MeanSquaredError(tscv.Metric):\n",
    "    def evaluate(self, y_obs, y_pred):\n",
    "        return np.mean((y_obs - y_pred) ** 2)\n",
    "    \n",
    "class MeanAbsoluteError(tscv.Metric):\n",
    "    def evaluate(self, y_obs, y_pred):\n",
    "        return np.mean(np.abs(y_obs - y_pred))"
   ]
  },
  {
   "cell_type": "code",
   "execution_count": 11,
   "metadata": {},
   "outputs": [],
   "source": [
    "# Set up cross-validation\n",
    "cross_validator = tscv.TimeSeriesCrossValidator(\n",
    "    train_starts=[0, 20, 40],\n",
    "    train_sizes=[15, 20, 25],\n",
    "    test_sizes=[5, 5, 5],\n",
    "    preprocessor=StandardScaler()\n",
    ")"
   ]
  },
  {
   "cell_type": "code",
   "execution_count": 12,
   "metadata": {},
   "outputs": [],
   "source": [
    "# Define model and preprocessor\n",
    "model = CustomLinearModel()"
   ]
  },
  {
   "cell_type": "code",
   "execution_count": 13,
   "metadata": {},
   "outputs": [],
   "source": [
    "# Define metrics\n",
    "metrics = [MeanSquaredError(), MeanAbsoluteError()]"
   ]
  },
  {
   "cell_type": "code",
   "execution_count": 14,
   "metadata": {},
   "outputs": [
    {
     "name": "stdout",
     "output_type": "stream",
     "text": [
      "Evaluation Results:\n",
      "{'MeanSquaredError': 0.26955336904854693, 'MeanAbsoluteError': 0.4603207931241317}\n",
      "{'MeanSquaredError': 0.12833842568255596, 'MeanAbsoluteError': 0.2883063441674924}\n",
      "{'MeanSquaredError': 0.4047077594926084, 'MeanAbsoluteError': 0.602132051913923}\n"
     ]
    }
   ],
   "source": [
    "# Evaluate model\n",
    "evaluations = cross_validator.cross_validate(model, X, y, metrics)\n",
    "print(\"Evaluation Results:\")\n",
    "for evaluation in evaluations:\n",
    "    print(evaluation)"
   ]
  }
 ],
 "metadata": {
  "kernelspec": {
   "display_name": "Python 3",
   "language": "python",
   "name": "python3"
  },
  "language_info": {
   "codemirror_mode": {
    "name": "ipython",
    "version": 3
   },
   "file_extension": ".py",
   "mimetype": "text/x-python",
   "name": "python",
   "nbconvert_exporter": "python",
   "pygments_lexer": "ipython3",
   "version": "3.9.19"
  }
 },
 "nbformat": 4,
 "nbformat_minor": 2
}
